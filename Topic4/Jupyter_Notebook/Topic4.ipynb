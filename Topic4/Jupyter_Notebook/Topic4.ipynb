{
 "cells": [
  {
   "cell_type": "markdown",
   "metadata": {},
   "source": [
    "# Exercise Questions for Topic 4"
   ]
  },
  {
   "cell_type": "code",
   "execution_count": 2,
   "metadata": {},
   "outputs": [],
   "source": [
    "import pandas as pd\n",
    "import numpy as np"
   ]
  },
  {
   "cell_type": "markdown",
   "metadata": {},
   "source": [
    "## 1"
   ]
  },
  {
   "cell_type": "markdown",
   "metadata": {},
   "source": [
    "### 1.b"
   ]
  },
  {
   "cell_type": "code",
   "execution_count": 3,
   "metadata": {},
   "outputs": [],
   "source": [
    "df = pd.read_excel(\"Topic4_3.6.xlsx\",header=None).iloc[:-6,:]\n",
    "df.columns=[\"m\",\"yield\"]\n",
    "df['z']=1/(df['yield']/2+1)**(2*df['m'])\n",
    "df = df.iloc[:14:2,:]"
   ]
  },
  {
   "cell_type": "code",
   "execution_count": 4,
   "metadata": {},
   "outputs": [
    {
     "data": {
      "text/html": [
       "<div>\n",
       "<style scoped>\n",
       "    .dataframe tbody tr th:only-of-type {\n",
       "        vertical-align: middle;\n",
       "    }\n",
       "\n",
       "    .dataframe tbody tr th {\n",
       "        vertical-align: top;\n",
       "    }\n",
       "\n",
       "    .dataframe thead th {\n",
       "        text-align: right;\n",
       "    }\n",
       "</style>\n",
       "<table border=\"1\" class=\"dataframe\">\n",
       "  <thead>\n",
       "    <tr style=\"text-align: right;\">\n",
       "      <th></th>\n",
       "      <th>m</th>\n",
       "      <th>yield</th>\n",
       "      <th>z</th>\n",
       "    </tr>\n",
       "  </thead>\n",
       "  <tbody>\n",
       "    <tr>\n",
       "      <td>0</td>\n",
       "      <td>0.25</td>\n",
       "      <td>0.0633</td>\n",
       "      <td>0.984541</td>\n",
       "    </tr>\n",
       "    <tr>\n",
       "      <td>2</td>\n",
       "      <td>0.75</td>\n",
       "      <td>0.0662</td>\n",
       "      <td>0.952328</td>\n",
       "    </tr>\n",
       "    <tr>\n",
       "      <td>4</td>\n",
       "      <td>1.25</td>\n",
       "      <td>0.0679</td>\n",
       "      <td>0.919922</td>\n",
       "    </tr>\n",
       "    <tr>\n",
       "      <td>6</td>\n",
       "      <td>1.75</td>\n",
       "      <td>0.0687</td>\n",
       "      <td>0.888513</td>\n",
       "    </tr>\n",
       "    <tr>\n",
       "      <td>8</td>\n",
       "      <td>2.25</td>\n",
       "      <td>0.0689</td>\n",
       "      <td>0.858632</td>\n",
       "    </tr>\n",
       "    <tr>\n",
       "      <td>10</td>\n",
       "      <td>2.75</td>\n",
       "      <td>0.0686</td>\n",
       "      <td>0.8307</td>\n",
       "    </tr>\n",
       "    <tr>\n",
       "      <td>12</td>\n",
       "      <td>3.25</td>\n",
       "      <td>0.068</td>\n",
       "      <td>0.804668</td>\n",
       "    </tr>\n",
       "  </tbody>\n",
       "</table>\n",
       "</div>"
      ],
      "text/plain": [
       "       m   yield         z\n",
       "0   0.25  0.0633  0.984541\n",
       "2   0.75  0.0662  0.952328\n",
       "4   1.25  0.0679  0.919922\n",
       "6   1.75  0.0687  0.888513\n",
       "8   2.25  0.0689  0.858632\n",
       "10  2.75  0.0686    0.8307\n",
       "12  3.25   0.068  0.804668"
      ]
     },
     "execution_count": 4,
     "metadata": {},
     "output_type": "execute_result"
    }
   ],
   "source": [
    "df"
   ]
  },
  {
   "cell_type": "code",
   "execution_count": 5,
   "metadata": {},
   "outputs": [
    {
     "data": {
      "text/plain": [
       "2.95415673810259"
      ]
     },
     "execution_count": 5,
     "metadata": {},
     "output_type": "execute_result"
    }
   ],
   "source": [
    "df['c_rate'] = [0.03,]*6+[1.03,]\n",
    "df['c'] = df['z']*df['c_rate']\n",
    "\n",
    "df['w'] = df['c']/df['c'].sum()\n",
    "\n",
    "# 久期\n",
    "D = (df['w']*df['m']).sum()\n",
    "D"
   ]
  },
  {
   "cell_type": "markdown",
   "metadata": {},
   "source": [
    "### 1.e"
   ]
  },
  {
   "cell_type": "code",
   "execution_count": 17,
   "metadata": {},
   "outputs": [],
   "source": [
    "df = pd.read_excel(\"Topic4_3.6.xlsx\",header=None).iloc[:-6,:]\n",
    "df.columns=[\"m\",\"yield\"]\n",
    "df = df.iloc[1:12:2,:]"
   ]
  },
  {
   "cell_type": "code",
   "execution_count": 18,
   "metadata": {},
   "outputs": [
    {
     "data": {
      "text/plain": [
       "100.93522514957634"
      ]
     },
     "execution_count": 18,
     "metadata": {},
     "output_type": "execute_result"
    }
   ],
   "source": [
    "P_fr = 100\n",
    "df['z'] = 1/(1+df['yield']/2)**(2*df['m'])\n",
    "df['c_rate'] = [0.35/200,]*6\n",
    "df['c'] = df['c_rate']*df['z']*100\n",
    "P = P_fr+df['c'].sum()\n",
    "P"
   ]
  },
  {
   "cell_type": "code",
   "execution_count": 19,
   "metadata": {},
   "outputs": [
    {
     "data": {
      "text/plain": [
       "0.5111221278354675"
      ]
     },
     "execution_count": 19,
     "metadata": {},
     "output_type": "execute_result"
    }
   ],
   "source": [
    "D = P_fr/P*0.5+(df['c']*df['m']/P).sum()\n",
    "D"
   ]
  },
  {
   "cell_type": "markdown",
   "metadata": {},
   "source": [
    "### 1.f\n",
    "\n",
    "浮动利率且 $s\\not=0$，期限不可以被频率整除，久期计算考虑一个浮动利率且 $s=0$ 和只计算票息的债券的资产组合"
   ]
  },
  {
   "cell_type": "code",
   "execution_count": 5,
   "metadata": {},
   "outputs": [],
   "source": [
    "df = pd.read_excel(\"Topic4_3.6.xlsx\",header=None).iloc[:-6,:]\n",
    "df.columns=[\"m\",\"yield\"]\n",
    "\n",
    "df['z']=1/(df['yield']/2+1)**(2*df['m'])\n",
    "df = df.iloc[:17:2,:]\n",
    "df['c_rate'] = [0.5/200,]*9"
   ]
  },
  {
   "cell_type": "code",
   "execution_count": 6,
   "metadata": {},
   "outputs": [
    {
     "data": {
      "text/plain": [
       "101.6046317222705"
      ]
     },
     "execution_count": 6,
     "metadata": {},
     "output_type": "execute_result"
    }
   ],
   "source": [
    "# 计算浮动利率债券的价格\n",
    "# 假设 r(0) = 0.064\n",
    "\n",
    "p_fr = 100*df['z'][0]*(1+0.064/2)\n",
    "p_fr"
   ]
  },
  {
   "cell_type": "code",
   "execution_count": 7,
   "metadata": {},
   "outputs": [
    {
     "data": {
      "text/plain": [
       "103.5491278218691"
      ]
     },
     "execution_count": 7,
     "metadata": {},
     "output_type": "execute_result"
    }
   ],
   "source": [
    "# 计算总值d \n",
    "df['c'] = df['c_rate']*df['z']*100\n",
    "p_total = df['c'].sum()+p_fr\n",
    "p_total"
   ]
  },
  {
   "cell_type": "code",
   "execution_count": 8,
   "metadata": {},
   "outputs": [
    {
     "data": {
      "text/plain": [
       "0.2854936847822395"
      ]
     },
     "execution_count": 8,
     "metadata": {},
     "output_type": "execute_result"
    }
   ],
   "source": [
    "# 计算久期\n",
    "D = p_fr/p_total*0.25+(df['c']/p_total*df['m']).sum()\n",
    "D"
   ]
  },
  {
   "cell_type": "code",
   "execution_count": null,
   "metadata": {},
   "outputs": [],
   "source": []
  },
  {
   "cell_type": "markdown",
   "metadata": {},
   "source": [
    "## 2\n",
    "\n",
    "### 2.a"
   ]
  },
  {
   "cell_type": "code",
   "execution_count": 13,
   "metadata": {},
   "outputs": [],
   "source": [
    "df = pd.read_excel(\"Topic4_3.6.xlsx\",header=None).iloc[:-6,:]\n",
    "df.columns=[\"m\",\"yield\"]\n",
    "df['z']=1/(df['yield']/2+1)**(2*df['m'])"
   ]
  },
  {
   "cell_type": "code",
   "execution_count": 14,
   "metadata": {},
   "outputs": [
    {
     "data": {
      "text/plain": [
       "0.06946622249999979"
      ]
     },
     "execution_count": 14,
     "metadata": {},
     "output_type": "execute_result"
    }
   ],
   "source": [
    "# yield\n",
    "y = (1/df.loc[11,'z'])**(1/3)-1\n",
    "y"
   ]
  },
  {
   "cell_type": "code",
   "execution_count": 16,
   "metadata": {},
   "outputs": [
    {
     "data": {
      "text/plain": [
       "2.8992983479342582"
      ]
     },
     "execution_count": 16,
     "metadata": {},
     "output_type": "execute_result"
    }
   ],
   "source": [
    "# 调整后久期\n",
    "p = 100/(1+y)**6\n",
    "MD = 3/(1+y/2)\n",
    "MD"
   ]
  },
  {
   "cell_type": "code",
   "execution_count": 17,
   "metadata": {},
   "outputs": [
    {
     "data": {
      "text/plain": [
       "3.0"
      ]
     },
     "execution_count": 17,
     "metadata": {},
     "output_type": "execute_result"
    }
   ],
   "source": [
    "# Mc Duration\n",
    "Mc = MD*(1+y/2)\n",
    "Mc"
   ]
  },
  {
   "cell_type": "markdown",
   "metadata": {},
   "source": [
    "### 2.b"
   ]
  },
  {
   "cell_type": "code",
   "execution_count": 18,
   "metadata": {},
   "outputs": [],
   "source": [
    "df = pd.read_excel(\"Topic4_3.6.xlsx\",header=None).iloc[:-6,:]\n",
    "df.columns=[\"m\",\"yield\"]\n",
    "df['z']=1/(df['yield']/2+1)**(2*df['m'])\n",
    "df = df.iloc[:14:2,:]\n",
    "df['c_rate'] = [0.03,]*6+[1.03,]\n",
    "df['c'] = df['z']*df['c_rate']*100\n",
    "df['w'] = df['c']/df['c'].sum()"
   ]
  },
  {
   "cell_type": "code",
   "execution_count": null,
   "metadata": {},
   "outputs": [],
   "source": []
  },
  {
   "cell_type": "code",
   "execution_count": 19,
   "metadata": {},
   "outputs": [
    {
     "data": {
      "text/plain": [
       "99.18466773910143"
      ]
     },
     "execution_count": 19,
     "metadata": {},
     "output_type": "execute_result"
    }
   ],
   "source": [
    "# 用z求解出债券价格Pc\n",
    "Pc = df['c'].sum()\n",
    "Pc"
   ]
  },
  {
   "cell_type": "code",
   "execution_count": 240,
   "metadata": {},
   "outputs": [
    {
     "data": {
      "text/plain": [
       "0.06801682710647583"
      ]
     },
     "execution_count": 240,
     "metadata": {},
     "output_type": "execute_result"
    }
   ],
   "source": [
    "# 二分法数值求解yield\n",
    "max = 1000\n",
    "y_d = 0\n",
    "y_u = 1\n",
    "def func(y):\n",
    "    x = 100/(1+y/2)**(2*3.25)\n",
    "    for j in range(7):\n",
    "        x+= (100*0.03)/(1+y/2)**(2*((j+1)*0.5-0.25))\n",
    "    return x\n",
    "x_p = 1000\n",
    "while(np.abs(x_p)>0.00001):\n",
    "    x_u = func(y_u)-Pc\n",
    "    x_d = func(y_d)-Pc\n",
    "    y_p = (y_u+y_d)/2\n",
    "    x_p = func(y_p)-Pc\n",
    "    if x_p*x_u<0:\n",
    "        y_d = y_p\n",
    "    elif x_p*x_d<0:\n",
    "        y_u = y_p\n",
    "y = y_p\n",
    "y"
   ]
  },
  {
   "cell_type": "code",
   "execution_count": 241,
   "metadata": {},
   "outputs": [
    {
     "data": {
      "text/plain": [
       "2.9542453197418936"
      ]
     },
     "execution_count": 241,
     "metadata": {},
     "output_type": "execute_result"
    }
   ],
   "source": [
    "# 久期\n",
    "D = (df['w']*df['m']).sum()\n",
    "D"
   ]
  },
  {
   "cell_type": "code",
   "execution_count": 244,
   "metadata": {},
   "outputs": [
    {
     "data": {
      "text/plain": [
       "2.857080478328212"
      ]
     },
     "execution_count": 244,
     "metadata": {},
     "output_type": "execute_result"
    }
   ],
   "source": [
    "# 调整后久期\n",
    "df[\"temp\"] = [1/(1+y/2)**(2*((i+1)*0.5-0.25)) for i in range(7)]\n",
    "df['w'] = df['temp']*df['c_rate']*100/Pc\n",
    "MD = (df['w']*df['m']).sum()/(1+y/2)\n",
    "MD"
   ]
  },
  {
   "cell_type": "code",
   "execution_count": 245,
   "metadata": {},
   "outputs": [
    {
     "data": {
      "text/plain": [
       "2.9542452527900807"
      ]
     },
     "execution_count": 245,
     "metadata": {},
     "output_type": "execute_result"
    }
   ],
   "source": [
    "# Mc Duration\n",
    "Mc = MD*(1+y/2)\n",
    "Mc"
   ]
  },
  {
   "cell_type": "markdown",
   "metadata": {},
   "source": [
    "## 3"
   ]
  },
  {
   "cell_type": "markdown",
   "metadata": {},
   "source": [
    "### 3.a"
   ]
  },
  {
   "cell_type": "code",
   "execution_count": 259,
   "metadata": {},
   "outputs": [],
   "source": [
    "df = pd.read_excel(\"Topic4_3.6.xlsx\",header=None).iloc[:-6,:]\n",
    "df.columns=[\"m\",\"yield\"]\n",
    "df['z']=1/(df['yield']/2+1)**(2*df['m'])\n",
    "df = df.iloc[1:21:2,:]"
   ]
  },
  {
   "cell_type": "code",
   "execution_count": 260,
   "metadata": {},
   "outputs": [
    {
     "data": {
      "text/html": [
       "<div>\n",
       "<style scoped>\n",
       "    .dataframe tbody tr th:only-of-type {\n",
       "        vertical-align: middle;\n",
       "    }\n",
       "\n",
       "    .dataframe tbody tr th {\n",
       "        vertical-align: top;\n",
       "    }\n",
       "\n",
       "    .dataframe thead th {\n",
       "        text-align: right;\n",
       "    }\n",
       "</style>\n",
       "<table border=\"1\" class=\"dataframe\">\n",
       "  <thead>\n",
       "    <tr style=\"text-align: right;\">\n",
       "      <th></th>\n",
       "      <th>m</th>\n",
       "      <th>yield</th>\n",
       "      <th>z</th>\n",
       "    </tr>\n",
       "  </thead>\n",
       "  <tbody>\n",
       "    <tr>\n",
       "      <td>1</td>\n",
       "      <td>0.5</td>\n",
       "      <td>0.0649</td>\n",
       "      <td>0.96857</td>\n",
       "    </tr>\n",
       "    <tr>\n",
       "      <td>3</td>\n",
       "      <td>1</td>\n",
       "      <td>0.0671</td>\n",
       "      <td>0.936132</td>\n",
       "    </tr>\n",
       "    <tr>\n",
       "      <td>5</td>\n",
       "      <td>1.5</td>\n",
       "      <td>0.0684</td>\n",
       "      <td>0.904037</td>\n",
       "    </tr>\n",
       "    <tr>\n",
       "      <td>7</td>\n",
       "      <td>2</td>\n",
       "      <td>0.0688</td>\n",
       "      <td>0.873466</td>\n",
       "    </tr>\n",
       "    <tr>\n",
       "      <td>9</td>\n",
       "      <td>2.5</td>\n",
       "      <td>0.0688</td>\n",
       "      <td>0.844418</td>\n",
       "    </tr>\n",
       "    <tr>\n",
       "      <td>11</td>\n",
       "      <td>3</td>\n",
       "      <td>0.0683</td>\n",
       "      <td>0.817521</td>\n",
       "    </tr>\n",
       "    <tr>\n",
       "      <td>13</td>\n",
       "      <td>3.5</td>\n",
       "      <td>0.0676</td>\n",
       "      <td>0.7924</td>\n",
       "    </tr>\n",
       "    <tr>\n",
       "      <td>15</td>\n",
       "      <td>4</td>\n",
       "      <td>0.0667</td>\n",
       "      <td>0.769167</td>\n",
       "    </tr>\n",
       "    <tr>\n",
       "      <td>17</td>\n",
       "      <td>4.5</td>\n",
       "      <td>0.0657</td>\n",
       "      <td>0.747592</td>\n",
       "    </tr>\n",
       "    <tr>\n",
       "      <td>19</td>\n",
       "      <td>5</td>\n",
       "      <td>0.0645</td>\n",
       "      <td>0.728033</td>\n",
       "    </tr>\n",
       "  </tbody>\n",
       "</table>\n",
       "</div>"
      ],
      "text/plain": [
       "      m   yield         z\n",
       "1   0.5  0.0649   0.96857\n",
       "3     1  0.0671  0.936132\n",
       "5   1.5  0.0684  0.904037\n",
       "7     2  0.0688  0.873466\n",
       "9   2.5  0.0688  0.844418\n",
       "11    3  0.0683  0.817521\n",
       "13  3.5  0.0676    0.7924\n",
       "15    4  0.0667  0.769167\n",
       "17  4.5  0.0657  0.747592\n",
       "19    5  0.0645  0.728033"
      ]
     },
     "execution_count": 260,
     "metadata": {},
     "output_type": "execute_result"
    }
   ],
   "source": [
    "df"
   ]
  },
  {
   "cell_type": "code",
   "execution_count": 261,
   "metadata": {},
   "outputs": [],
   "source": []
  },
  {
   "cell_type": "code",
   "execution_count": 266,
   "metadata": {},
   "outputs": [
    {
     "data": {
      "text/plain": [
       "89.5659736786322"
      ]
     },
     "execution_count": 266,
     "metadata": {},
     "output_type": "execute_result"
    }
   ],
   "source": [
    "# Price\n",
    "df['c_rate'] = [0.04/2,]*9+[1.02]\n",
    "p_total = (df[\"c_rate\"]*df[\"z\"]*100).sum()\n",
    "p_total"
   ]
  },
  {
   "cell_type": "code",
   "execution_count": 268,
   "metadata": {},
   "outputs": [
    {
     "data": {
      "text/plain": [
       "4.5541773669541215"
      ]
     },
     "execution_count": 268,
     "metadata": {},
     "output_type": "execute_result"
    }
   ],
   "source": [
    "# Duration\n",
    "df['w'] = df[\"c_rate\"]*df[\"z\"]*100/p_total\n",
    "D = (df['w']*df['m']).sum()\n",
    "D"
   ]
  },
  {
   "cell_type": "code",
   "execution_count": 270,
   "metadata": {},
   "outputs": [
    {
     "data": {
      "text/plain": [
       "407.89933017643534"
      ]
     },
     "execution_count": 270,
     "metadata": {},
     "output_type": "execute_result"
    }
   ],
   "source": [
    "# $ Duratinon\n",
    "D_ = D*p_total\n",
    "D_"
   ]
  },
  {
   "cell_type": "markdown",
   "metadata": {},
   "source": [
    "### 3.b"
   ]
  },
  {
   "cell_type": "code",
   "execution_count": 306,
   "metadata": {},
   "outputs": [],
   "source": [
    "df = pd.read_excel(\"Topic4_3.6.xlsx\",header=None).iloc[:-6,:]\n",
    "df.columns=[\"m\",\"yield\"]\n",
    "df['z']=1/(df['yield']/2+1)**(2*df['m'])\n",
    "df = df.iloc[1:29:2,:]"
   ]
  },
  {
   "cell_type": "code",
   "execution_count": 307,
   "metadata": {},
   "outputs": [
    {
     "data": {
      "text/plain": [
       "67.61244892580068"
      ]
     },
     "execution_count": 307,
     "metadata": {},
     "output_type": "execute_result"
    }
   ],
   "source": [
    "# Price\n",
    "p_total = df['z'][27]*100\n",
    "p_total"
   ]
  },
  {
   "cell_type": "code",
   "execution_count": 308,
   "metadata": {},
   "outputs": [
    {
     "data": {
      "text/plain": [
       "-7"
      ]
     },
     "execution_count": 308,
     "metadata": {},
     "output_type": "execute_result"
    }
   ],
   "source": [
    "# Duration\n",
    "-7"
   ]
  },
  {
   "cell_type": "code",
   "execution_count": 311,
   "metadata": {},
   "outputs": [
    {
     "name": "stdout",
     "output_type": "stream",
     "text": [
      "($473.28714248060476)\n"
     ]
    }
   ],
   "source": [
    "# $ Duration\n",
    "print(\"($\"+str(p_total*7)+\")\")"
   ]
  },
  {
   "cell_type": "markdown",
   "metadata": {},
   "source": [
    "### 3.c"
   ]
  },
  {
   "cell_type": "code",
   "execution_count": 300,
   "metadata": {},
   "outputs": [],
   "source": [
    "df = pd.read_excel(\"Topic4_3.6.xlsx\",header=None).iloc[:-6,:]\n",
    "df.columns=[\"m\",\"yield\"]\n",
    "df['z']=1/(df['yield']/2+1)**(2*df['m'])\n",
    "df = df.iloc[:14,:]"
   ]
  },
  {
   "cell_type": "code",
   "execution_count": 301,
   "metadata": {},
   "outputs": [
    {
     "data": {
      "text/html": [
       "<div>\n",
       "<style scoped>\n",
       "    .dataframe tbody tr th:only-of-type {\n",
       "        vertical-align: middle;\n",
       "    }\n",
       "\n",
       "    .dataframe tbody tr th {\n",
       "        vertical-align: top;\n",
       "    }\n",
       "\n",
       "    .dataframe thead th {\n",
       "        text-align: right;\n",
       "    }\n",
       "</style>\n",
       "<table border=\"1\" class=\"dataframe\">\n",
       "  <thead>\n",
       "    <tr style=\"text-align: right;\">\n",
       "      <th></th>\n",
       "      <th>m</th>\n",
       "      <th>yield</th>\n",
       "      <th>z</th>\n",
       "    </tr>\n",
       "  </thead>\n",
       "  <tbody>\n",
       "    <tr>\n",
       "      <td>0</td>\n",
       "      <td>0.25</td>\n",
       "      <td>0.0633</td>\n",
       "      <td>0.984541</td>\n",
       "    </tr>\n",
       "    <tr>\n",
       "      <td>1</td>\n",
       "      <td>0.5</td>\n",
       "      <td>0.0649</td>\n",
       "      <td>0.96857</td>\n",
       "    </tr>\n",
       "    <tr>\n",
       "      <td>2</td>\n",
       "      <td>0.75</td>\n",
       "      <td>0.0662</td>\n",
       "      <td>0.952328</td>\n",
       "    </tr>\n",
       "    <tr>\n",
       "      <td>3</td>\n",
       "      <td>1</td>\n",
       "      <td>0.0671</td>\n",
       "      <td>0.936132</td>\n",
       "    </tr>\n",
       "    <tr>\n",
       "      <td>4</td>\n",
       "      <td>1.25</td>\n",
       "      <td>0.0679</td>\n",
       "      <td>0.919922</td>\n",
       "    </tr>\n",
       "    <tr>\n",
       "      <td>5</td>\n",
       "      <td>1.5</td>\n",
       "      <td>0.0684</td>\n",
       "      <td>0.904037</td>\n",
       "    </tr>\n",
       "    <tr>\n",
       "      <td>6</td>\n",
       "      <td>1.75</td>\n",
       "      <td>0.0687</td>\n",
       "      <td>0.888513</td>\n",
       "    </tr>\n",
       "    <tr>\n",
       "      <td>7</td>\n",
       "      <td>2</td>\n",
       "      <td>0.0688</td>\n",
       "      <td>0.873466</td>\n",
       "    </tr>\n",
       "    <tr>\n",
       "      <td>8</td>\n",
       "      <td>2.25</td>\n",
       "      <td>0.0689</td>\n",
       "      <td>0.858632</td>\n",
       "    </tr>\n",
       "    <tr>\n",
       "      <td>9</td>\n",
       "      <td>2.5</td>\n",
       "      <td>0.0688</td>\n",
       "      <td>0.844418</td>\n",
       "    </tr>\n",
       "    <tr>\n",
       "      <td>10</td>\n",
       "      <td>2.75</td>\n",
       "      <td>0.0686</td>\n",
       "      <td>0.8307</td>\n",
       "    </tr>\n",
       "    <tr>\n",
       "      <td>11</td>\n",
       "      <td>3</td>\n",
       "      <td>0.0683</td>\n",
       "      <td>0.817521</td>\n",
       "    </tr>\n",
       "    <tr>\n",
       "      <td>12</td>\n",
       "      <td>3.25</td>\n",
       "      <td>0.068</td>\n",
       "      <td>0.804668</td>\n",
       "    </tr>\n",
       "    <tr>\n",
       "      <td>13</td>\n",
       "      <td>3.5</td>\n",
       "      <td>0.0676</td>\n",
       "      <td>0.7924</td>\n",
       "    </tr>\n",
       "  </tbody>\n",
       "</table>\n",
       "</div>"
      ],
      "text/plain": [
       "       m   yield         z\n",
       "0   0.25  0.0633  0.984541\n",
       "1    0.5  0.0649   0.96857\n",
       "2   0.75  0.0662  0.952328\n",
       "3      1  0.0671  0.936132\n",
       "4   1.25  0.0679  0.919922\n",
       "5    1.5  0.0684  0.904037\n",
       "6   1.75  0.0687  0.888513\n",
       "7      2  0.0688  0.873466\n",
       "8   2.25  0.0689  0.858632\n",
       "9    2.5  0.0688  0.844418\n",
       "10  2.75  0.0686    0.8307\n",
       "11     3  0.0683  0.817521\n",
       "12  3.25   0.068  0.804668\n",
       "13   3.5  0.0676    0.7924"
      ]
     },
     "execution_count": 301,
     "metadata": {},
     "output_type": "execute_result"
    }
   ],
   "source": [
    "df"
   ]
  },
  {
   "cell_type": "code",
   "execution_count": 302,
   "metadata": {},
   "outputs": [],
   "source": [
    "df['c_rate'] = [0.07/4,]*13+[1+0.07/4]"
   ]
  },
  {
   "cell_type": "code",
   "execution_count": 303,
   "metadata": {},
   "outputs": [
    {
     "data": {
      "text/plain": [
       "100.89770279848634"
      ]
     },
     "execution_count": 303,
     "metadata": {},
     "output_type": "execute_result"
    }
   ],
   "source": [
    "# Price\n",
    "p_total = (df['z']*df['c_rate']*100).sum()\n",
    "p_total"
   ]
  },
  {
   "cell_type": "code",
   "execution_count": 299,
   "metadata": {},
   "outputs": [
    {
     "data": {
      "text/plain": [
       "3.136491996535655"
      ]
     },
     "execution_count": 299,
     "metadata": {},
     "output_type": "execute_result"
    }
   ],
   "source": [
    "# Duration\n",
    "df['c'] = df['z']*df['c_rate']*100\n",
    "df['w'] = df['c']/df['c'].sum()\n",
    "D = (df['w']*df['m']).sum()\n",
    "D"
   ]
  },
  {
   "cell_type": "code",
   "execution_count": 304,
   "metadata": {},
   "outputs": [
    {
     "data": {
      "text/plain": [
       "316.4648372962855"
      ]
     },
     "execution_count": 304,
     "metadata": {},
     "output_type": "execute_result"
    }
   ],
   "source": [
    "# $ Duration\n",
    "D_ = D*p_total\n",
    "D_"
   ]
  },
  {
   "cell_type": "markdown",
   "metadata": {},
   "source": [
    "### 3.d"
   ]
  },
  {
   "cell_type": "code",
   "execution_count": 305,
   "metadata": {},
   "outputs": [
    {
     "data": {
      "text/plain": [
       "50"
      ]
     },
     "execution_count": 305,
     "metadata": {},
     "output_type": "execute_result"
    }
   ],
   "source": [
    "# Price\n",
    "100\n",
    "# Duration\n",
    "0.5\n",
    "# $ Duration\n",
    "50"
   ]
  },
  {
   "cell_type": "markdown",
   "metadata": {},
   "source": [
    "### 3.e"
   ]
  },
  {
   "cell_type": "code",
   "execution_count": 314,
   "metadata": {},
   "outputs": [],
   "source": [
    "df = pd.read_excel(\"Topic4_3.6.xlsx\",header=None).iloc[:-6,:]\n",
    "df.columns=[\"m\",\"yield\"]\n",
    "df['z']=1/(df['yield']/2+1)**(2*df['m'])\n",
    "df = df.iloc[:10:2,:]"
   ]
  },
  {
   "cell_type": "code",
   "execution_count": 315,
   "metadata": {},
   "outputs": [
    {
     "data": {
      "text/html": [
       "<div>\n",
       "<style scoped>\n",
       "    .dataframe tbody tr th:only-of-type {\n",
       "        vertical-align: middle;\n",
       "    }\n",
       "\n",
       "    .dataframe tbody tr th {\n",
       "        vertical-align: top;\n",
       "    }\n",
       "\n",
       "    .dataframe thead th {\n",
       "        text-align: right;\n",
       "    }\n",
       "</style>\n",
       "<table border=\"1\" class=\"dataframe\">\n",
       "  <thead>\n",
       "    <tr style=\"text-align: right;\">\n",
       "      <th></th>\n",
       "      <th>m</th>\n",
       "      <th>yield</th>\n",
       "      <th>z</th>\n",
       "    </tr>\n",
       "  </thead>\n",
       "  <tbody>\n",
       "    <tr>\n",
       "      <td>0</td>\n",
       "      <td>0.25</td>\n",
       "      <td>0.0633</td>\n",
       "      <td>0.984541</td>\n",
       "    </tr>\n",
       "    <tr>\n",
       "      <td>2</td>\n",
       "      <td>0.75</td>\n",
       "      <td>0.0662</td>\n",
       "      <td>0.952328</td>\n",
       "    </tr>\n",
       "    <tr>\n",
       "      <td>4</td>\n",
       "      <td>1.25</td>\n",
       "      <td>0.0679</td>\n",
       "      <td>0.919922</td>\n",
       "    </tr>\n",
       "    <tr>\n",
       "      <td>6</td>\n",
       "      <td>1.75</td>\n",
       "      <td>0.0687</td>\n",
       "      <td>0.888513</td>\n",
       "    </tr>\n",
       "    <tr>\n",
       "      <td>8</td>\n",
       "      <td>2.25</td>\n",
       "      <td>0.0689</td>\n",
       "      <td>0.858632</td>\n",
       "    </tr>\n",
       "  </tbody>\n",
       "</table>\n",
       "</div>"
      ],
      "text/plain": [
       "      m   yield         z\n",
       "0  0.25  0.0633  0.984541\n",
       "2  0.75  0.0662  0.952328\n",
       "4  1.25  0.0679  0.919922\n",
       "6  1.75  0.0687  0.888513\n",
       "8  2.25  0.0689  0.858632"
      ]
     },
     "execution_count": 315,
     "metadata": {},
     "output_type": "execute_result"
    }
   ],
   "source": [
    "df"
   ]
  },
  {
   "cell_type": "code",
   "execution_count": 327,
   "metadata": {},
   "outputs": [
    {
     "data": {
      "text/plain": [
       "100"
      ]
     },
     "execution_count": 327,
     "metadata": {},
     "output_type": "execute_result"
    }
   ],
   "source": [
    "# Price\n",
    "# assume r(0) = 1/z(0,0.25)-1\n",
    "P_fr = 100\n",
    "P_fr"
   ]
  },
  {
   "cell_type": "code",
   "execution_count": 328,
   "metadata": {},
   "outputs": [
    {
     "data": {
      "text/plain": [
       "-0.25"
      ]
     },
     "execution_count": 328,
     "metadata": {},
     "output_type": "execute_result"
    }
   ],
   "source": [
    "# Duration\n",
    "D = -0.25\n",
    "D"
   ]
  },
  {
   "cell_type": "code",
   "execution_count": 329,
   "metadata": {},
   "outputs": [
    {
     "data": {
      "text/plain": [
       "25.0"
      ]
     },
     "execution_count": 329,
     "metadata": {},
     "output_type": "execute_result"
    }
   ],
   "source": [
    "# $ Duration\n",
    "D_ = -P_fr*D\n",
    "D_"
   ]
  },
  {
   "cell_type": "markdown",
   "metadata": {},
   "source": [
    "### 3.f"
   ]
  },
  {
   "cell_type": "code",
   "execution_count": 41,
   "metadata": {},
   "outputs": [],
   "source": [
    "df = pd.read_excel(\"Topic4_3.6.xlsx\",header=None).iloc[:-6,:]\n",
    "df.columns=[\"m\",\"yield\"]\n",
    "df['z']=1/(df['yield']/2+1)**(2*df['m'])\n",
    "df = df.iloc[:22:2,:]"
   ]
  },
  {
   "cell_type": "code",
   "execution_count": 42,
   "metadata": {},
   "outputs": [
    {
     "data": {
      "text/plain": [
       "102.7589298546452"
      ]
     },
     "execution_count": 42,
     "metadata": {},
     "output_type": "execute_result"
    }
   ],
   "source": [
    "# Price\n",
    "# assume r(0) = 0.064 (不知道到底是啥，，，随便写吧)\n",
    "df['c_rate'] = [0.25/200,]*(len(df['z']))\n",
    "p_fr = 100*df['z'][0]*(1+0.064/2)\n",
    "p_c = (df['c_rate']*df['z']).sum()*100\n",
    "p_total = p_c+p_fr\n",
    "p_total"
   ]
  },
  {
   "cell_type": "code",
   "execution_count": 43,
   "metadata": {},
   "outputs": [
    {
     "data": {
      "text/plain": [
       "-0.2767597447307018"
      ]
     },
     "execution_count": 43,
     "metadata": {},
     "output_type": "execute_result"
    }
   ],
   "source": [
    "# Duration\n",
    "df['w'] = df['c_rate']*df['z']*p_fr/p_total\n",
    "D = -(df['w']*df['m']).sum()-p_fr/p_total*0.25\n",
    "D"
   ]
  },
  {
   "cell_type": "code",
   "execution_count": 44,
   "metadata": {},
   "outputs": [
    {
     "data": {
      "text/plain": [
       "28.4395351953717"
      ]
     },
     "execution_count": 44,
     "metadata": {},
     "output_type": "execute_result"
    }
   ],
   "source": [
    "# $ Duration\n",
    "D_ = -D*p_total\n",
    "D_"
   ]
  },
  {
   "cell_type": "markdown",
   "metadata": {},
   "source": [
    "## 4\n",
    "\n",
    "### 4.a"
   ]
  },
  {
   "cell_type": "code",
   "execution_count": 45,
   "metadata": {},
   "outputs": [],
   "source": [
    "df = pd.read_excel(\"Topic4_3.7.xlsx\",header=0)"
   ]
  },
  {
   "cell_type": "code",
   "execution_count": 46,
   "metadata": {},
   "outputs": [
    {
     "data": {
      "text/plain": [
       "10"
      ]
     },
     "execution_count": 46,
     "metadata": {},
     "output_type": "execute_result"
    }
   ],
   "source": [
    "20+20-30"
   ]
  },
  {
   "cell_type": "markdown",
   "metadata": {},
   "source": [
    "### 4.b"
   ]
  },
  {
   "cell_type": "markdown",
   "metadata": {},
   "source": [
    "**Duration of the 6-year floating rate bonds(million)**\n",
    "\n",
    "- long a fixed coupon bond (c_rate = 20%) and a zero bond\n",
    "- short a floating rate coupon bond (s = 0)"
   ]
  },
  {
   "cell_type": "code",
   "execution_count": 47,
   "metadata": {},
   "outputs": [
    {
     "name": "stdout",
     "output_type": "stream",
     "text": [
      "Price: 146.48250000000002\n",
      "N: 7.784620176471592\n",
      "$D: 1140.310625\n",
      "$D X N: 155.69240352943183\n"
     ]
    }
   ],
   "source": [
    "# the fixed coupon bond\n",
    "df_1 = df.copy()\n",
    "df_1['c_rate'] = [0.2/4,]*23+[1+0.2/4]\n",
    "df_1['c'] = df_1['c_rate']*df_1['z1']*100\n",
    "df_1['w'] = df_1['c']/df_1['c'].sum()\n",
    "P_fx = df_1['c'].sum()\n",
    "D_fx = (df_1['w']*df_1['m']).sum()\n",
    "\n",
    "# the zero bond\n",
    "df_2 = df.copy()\n",
    "df_2['c_rate'] = [0,]*23+[1]\n",
    "df_2['c'] = df_2['c_rate']*df_2['z1']*100\n",
    "df_2['w'] = df_2['c']/df_2['c'].sum()\n",
    "P_z = df_2['c'].sum()\n",
    "D_z = (df_2['w']*df_2['m']).sum()\n",
    "\n",
    "# the floating rate coupon\n",
    "P_fr = 100\n",
    "D_fr = 0.25\n",
    "\n",
    "D1 = P_fx/(P_z+P_fx-P_fr)*D_fx+P_z/(P_z+P_fx-P_fr)*D_z-P_fr/(P_z+P_fx-P_fr)*D_fr\n",
    "P1 = P_z+P_fx-P_fr\n",
    "N1 = 20/P1\n",
    "D_d1 = P1*D1\n",
    "D_d_N1 = P1*D1*N1\n",
    "print(\"Price: {}\\nN: {}\\n$D: {}\\n$D X N: {}\".format(P1,D1,D_d1,D_d_N1))"
   ]
  },
  {
   "cell_type": "markdown",
   "metadata": {},
   "source": [
    "**Duration of the 4-year floating rate bonds (million)**"
   ]
  },
  {
   "cell_type": "code",
   "execution_count": 48,
   "metadata": {},
   "outputs": [
    {
     "name": "stdout",
     "output_type": "stream",
     "text": [
      "Price: 101.623015\n",
      "N: 0.1968058121479667\n",
      "$D: 53.53764124999999\n",
      "$D X N: 10.53651896669273\n"
     ]
    }
   ],
   "source": [
    "df_3 = df.copy().iloc[1:16:2,:]\n",
    "df_3['c_rate'] = [.45/200,]*8\n",
    "df_3['c'] = df_3['c_rate']*df_3['z1']*100\n",
    "P2 = 100+df_3['c'].sum()\n",
    "df_3['w'] = df_3[\"c\"]/P2\n",
    "D2 = 100/P2*0.5+(df_3['m']*df_3['w']).sum()\n",
    "N2 = 20/P2\n",
    "D_d2 = D2*P2\n",
    "D_d_N2 = D2*P2*N2\n",
    "print(\"Price: {}\\nN: {}\\n$D: {}\\n$D X N: {}\".format(P2,N2,D_d2,D_d_N2))"
   ]
  },
  {
   "cell_type": "markdown",
   "metadata": {},
   "source": [
    "**Duration of the 5-year zero coupon bond(million)**"
   ]
  },
  {
   "cell_type": "code",
   "execution_count": 49,
   "metadata": {},
   "outputs": [
    {
     "name": "stdout",
     "output_type": "stream",
     "text": [
      "Price: 76.41\n",
      "N: 0.39261876717707106\n",
      "$D: 382.04999999999995\n",
      "$D X N: 149.99999999999997\n"
     ]
    }
   ],
   "source": [
    "df_3 = df.iloc[19,:]\n",
    "P3 = df_3['z1']*100\n",
    "D3 = 5\n",
    "N3 = 30/P3\n",
    "D_d3 = D3*P3\n",
    "D_d_N3 = D3*P3*N3\n",
    "print(\"Price: {}\\nN: {}\\n$D: {}\\n$D X N: {}\".format(P3,N3,D_d3,D_d_N3))"
   ]
  },
  {
   "cell_type": "markdown",
   "metadata": {},
   "source": [
    "**Portfolio**"
   ]
  },
  {
   "cell_type": "code",
   "execution_count": 50,
   "metadata": {},
   "outputs": [
    {
     "data": {
      "text/plain": [
       "16.228922496124596"
      ]
     },
     "execution_count": 50,
     "metadata": {},
     "output_type": "execute_result"
    }
   ],
   "source": [
    "# $ D\n",
    "D = 20*D1+20*D2-30*D3\n",
    "D"
   ]
  },
  {
   "cell_type": "markdown",
   "metadata": {},
   "source": [
    "## 5\n",
    "\n",
    "### 5.a"
   ]
  },
  {
   "cell_type": "code",
   "execution_count": 51,
   "metadata": {},
   "outputs": [],
   "source": [
    "df = pd.read_excel(\"Topic4_3.7.xlsx\",header=0)\n",
    "df = df[1:12:2]"
   ]
  },
  {
   "cell_type": "code",
   "execution_count": 52,
   "metadata": {},
   "outputs": [
    {
     "data": {
      "text/plain": [
       "5.68683217263503"
      ]
     },
     "execution_count": 52,
     "metadata": {},
     "output_type": "execute_result"
    }
   ],
   "source": [
    "df['c_rate'] = [0.04/2,]*5+[1+0.04/2]\n",
    "df['c'] = df['c_rate']*100*df['z1']\n",
    "df['w'] = df['c']/df['c'].sum()\n",
    "P_ = df['c'].sum()\n",
    "D_ = (df['w']*df['m']).sum()\n",
    "P_short = D/D_\n",
    "\n",
    "N_short = P_short/P_\n",
    "P_short"
   ]
  },
  {
   "cell_type": "markdown",
   "metadata": {},
   "source": [
    "### 5.b"
   ]
  },
  {
   "cell_type": "code",
   "execution_count": 669,
   "metadata": {},
   "outputs": [
    {
     "data": {
      "text/plain": [
       "4.31316782736497"
      ]
     },
     "execution_count": 669,
     "metadata": {},
     "output_type": "execute_result"
    }
   ],
   "source": [
    "10-P_short"
   ]
  },
  {
   "cell_type": "markdown",
   "metadata": {},
   "source": [
    "## 6\n",
    "\n",
    "### 6.a\n",
    "\n"
   ]
  },
  {
   "cell_type": "code",
   "execution_count": 54,
   "metadata": {},
   "outputs": [],
   "source": [
    "df = pd.read_excel(\"Topic4_3.7.xlsx\",header=0)"
   ]
  },
  {
   "cell_type": "code",
   "execution_count": 55,
   "metadata": {},
   "outputs": [],
   "source": [
    "# the fixed coupon bond\n",
    "df_1 = df.copy().iloc[:-1,:]\n",
    "df_1['c_rate'] = [0.2/4,]*22+[1+0.2/4]\n",
    "df_1['c'] = df_1['c_rate']*df_1['z2']*100\n",
    "df_1['w'] = df_1['c']/df_1['c'].sum()\n",
    "P_fx = df_1['c'].sum()\n",
    "\n",
    "# the zero bond\n",
    "df_2 = df.copy().iloc[:-1,:]\n",
    "df_2['c_rate'] = [0,]*22+[1]\n",
    "df_2['c'] = df_2['c_rate']*df_2['z2']*100\n",
    "df_2['w'] = df_2['c']/df_2['c'].sum()\n",
    "P_z = df_2['c'].sum()\n",
    "\n",
    "# the floating rate coupon\n",
    "P_fr = 100\n",
    "P1_ = P_z+P_fx-P_fr\n",
    "\n",
    "\n",
    "df_3 = df.copy().iloc[:16:2,:]\n",
    "df_3['c_rate'] = [.45/200,]*8\n",
    "P_fr = 100*df['z2'][0]*(1+0.064/2)\n",
    "df_3['c'] = df_3['c_rate']*df_3['z2']*100\n",
    "P2_ = P_fr+df_3['c'].sum()\n",
    "\n",
    "\n",
    "df_4 = df.iloc[18,:]\n",
    "P3_ = df_4['z2']*100"
   ]
  },
  {
   "cell_type": "code",
   "execution_count": 56,
   "metadata": {},
   "outputs": [
    {
     "data": {
      "text/plain": [
       "9.626829271345741"
      ]
     },
     "execution_count": 56,
     "metadata": {},
     "output_type": "execute_result"
    }
   ],
   "source": [
    "(P1_*N1+P2_*N2-P3_*N3)"
   ]
  },
  {
   "cell_type": "code",
   "execution_count": null,
   "metadata": {},
   "outputs": [],
   "source": []
  },
  {
   "cell_type": "code",
   "execution_count": null,
   "metadata": {},
   "outputs": [],
   "source": []
  },
  {
   "cell_type": "code",
   "execution_count": null,
   "metadata": {},
   "outputs": [],
   "source": []
  }
 ],
 "metadata": {
  "kernelspec": {
   "display_name": "Python 3",
   "language": "python",
   "name": "python3"
  },
  "language_info": {
   "codemirror_mode": {
    "name": "ipython",
    "version": 3
   },
   "file_extension": ".py",
   "mimetype": "text/x-python",
   "name": "python",
   "nbconvert_exporter": "python",
   "pygments_lexer": "ipython3",
   "version": "3.7.4"
  }
 },
 "nbformat": 4,
 "nbformat_minor": 4
}
