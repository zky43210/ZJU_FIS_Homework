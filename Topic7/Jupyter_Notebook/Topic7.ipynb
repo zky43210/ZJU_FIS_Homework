{
 "cells": [
  {
   "cell_type": "markdown",
   "metadata": {},
   "source": [
    "# Exercise Questions for Topic 6"
   ]
  },
  {
   "cell_type": "code",
   "execution_count": 395,
   "metadata": {},
   "outputs": [],
   "source": [
    "import pandas as pd \n",
    "import numpy as np\n",
    "import matplotlib.dates as dt\n",
    "import matplotlib.pyplot as plt\n",
    "import time, datetime, calendar\n",
    "\n",
    "def Plot2(date,data1,data2,title=\"\",label1=\"\",label2=\"\",\\\n",
    "         save_path=False,figure_size=[18,4]):\n",
    "    \"\"\"\n",
    "    Plot with 2 Series\n",
    "    \"\"\"\n",
    "    year = dt.MonthLocator()\n",
    "    yearformat = dt.DateFormatter('%y-%m')\n",
    "    fig=plt.figure(figsize=figure_size)\n",
    "    ax = fig.add_subplot(1, 1, 1)\n",
    "    ax.plot_date(pd.to_datetime(date),data1,'--',\\\n",
    "                 linewidth = 2.5,label=label1, alpha=1)\n",
    "    ax.plot_date(pd.to_datetime(date),data2,'-',\\\n",
    "                 linewidth = 2.5,label=label2, alpha=1)\n",
    "    ax.xaxis.set_major_locator(year)\n",
    "    #ax.yaxis.set_major_formatter(FuncFormatter(to_percent))\n",
    "    ax.xaxis.set_major_formatter(yearformat)\n",
    "    ax.legend(fontsize=14)\n",
    "    ax.set_title(title,fontsize=20)\n",
    "    plt.xticks(fontsize=16)\n",
    "    plt.yticks(fontsize=16)\n",
    "    plt.grid(True)\n",
    "    if save_path:\n",
    "        fig.savefig(save_path)"
   ]
  },
  {
   "cell_type": "markdown",
   "metadata": {},
   "source": [
    "## 1\n",
    "\n",
    "### 1.a\n"
   ]
  },
  {
   "cell_type": "code",
   "execution_count": 310,
   "metadata": {},
   "outputs": [],
   "source": [
    "df=pd.read_excel(\"Topic7_6.9.xlsx\").iloc[:,:2]\n",
    "df.index = pd.to_datetime(df['date'])\n",
    "df.drop(['date'],inplace=True,axis=1)\n",
    "df = df[7:28:2]\n",
    "df.columns=['r2']\n",
    "df['m'] = [i*0.5+2 for i in range(df.shape[0])]"
   ]
  },
  {
   "cell_type": "code",
   "execution_count": 311,
   "metadata": {},
   "outputs": [
    {
     "data": {
      "text/plain": [
       "98.86575238643273"
      ]
     },
     "execution_count": 311,
     "metadata": {},
     "output_type": "execute_result"
    }
   ],
   "source": [
    "df['z'] = 1/(1+df['r2']/2)**(2*df['m'])\n",
    "df['F'] = df['z']/df['z'][0]    # Forward Discount Factor\n",
    "df['c_rate'] = [0]+[0.06/2,]*9+[1+0.06/2,]\n",
    "df['c'] = df['c_rate']*df['F']\n",
    "P=df['c'].sum()*100\n",
    "P"
   ]
  },
  {
   "cell_type": "code",
   "execution_count": null,
   "metadata": {},
   "outputs": [],
   "source": []
  },
  {
   "cell_type": "markdown",
   "metadata": {},
   "source": [
    "### 1.b"
   ]
  },
  {
   "cell_type": "code",
   "execution_count": 312,
   "metadata": {},
   "outputs": [
    {
     "data": {
      "text/plain": [
       "0"
      ]
     },
     "execution_count": 312,
     "metadata": {},
     "output_type": "execute_result"
    }
   ],
   "source": [
    "0"
   ]
  },
  {
   "cell_type": "markdown",
   "metadata": {},
   "source": [
    "### 1.c"
   ]
  },
  {
   "cell_type": "code",
   "execution_count": 313,
   "metadata": {},
   "outputs": [
    {
     "data": {
      "text/plain": [
       "-0.14232303473432809"
      ]
     },
     "execution_count": 313,
     "metadata": {},
     "output_type": "execute_result"
    }
   ],
   "source": [
    "# 2/16/1994\n",
    "df=pd.read_excel(\"Topic7_6.9.xlsx\").iloc[:,:3]\n",
    "df.index = pd.to_datetime(df['date'])\n",
    "df.drop(['date',\"d15\"],inplace=True,axis=1)\n",
    "df = df[7:28:2]\n",
    "df.columns=['r2']\n",
    "\n",
    "#  forward price\n",
    "df['m'] = [i*0.5+2 for i in range(df.shape[0])]\n",
    "df['z'] = 1/(1+df['r2']/2)**(2*df['m'])\n",
    "df['F'] = df['z']/df['z'][0]    # Forward Discount Factor\n",
    "df['c_rate'] = [0]+[0.06/2,]*9+[1+0.06/2,]\n",
    "df['c'] = df['c_rate']*df['F']\n",
    "P_1=df['c'].sum()*100\n",
    "\n",
    "# the value of the forward contract\n",
    "(P_1-P)*df['z'][0]"
   ]
  },
  {
   "cell_type": "code",
   "execution_count": 314,
   "metadata": {},
   "outputs": [
    {
     "data": {
      "text/plain": [
       "-0.6090502788017478"
      ]
     },
     "execution_count": 314,
     "metadata": {},
     "output_type": "execute_result"
    }
   ],
   "source": [
    "# 2/17/1994\n",
    "df=pd.read_excel(\"Topic7_6.9.xlsx\").iloc[:,:4]\n",
    "df.index = pd.to_datetime(df['date'])\n",
    "df.drop(['date',\"d15\",\"d16\"],inplace=True,axis=1)\n",
    "df = df[7:28:2]\n",
    "df.columns=['r2']\n",
    "\n",
    "# forward price\n",
    "df['m'] = [i*0.5+2 for i in range(df.shape[0])]\n",
    "df['z'] = 1/(1+df['r2']/2)**(2*df['m'])\n",
    "df['F'] = df['z']/df['z'][0]    # Forward Discount Factor\n",
    "df['c_rate'] = [0]+[0.06/2,]*9+[1+0.06/2,]\n",
    "df['c'] = df['c_rate']*df['F']\n",
    "P_2=df['c'].sum()*100\n",
    "\n",
    "# the value of the forward contract\n",
    "(P_2-P)*df['z'][0]"
   ]
  },
  {
   "cell_type": "code",
   "execution_count": 315,
   "metadata": {},
   "outputs": [
    {
     "data": {
      "text/plain": [
       "-1.0154322717630346"
      ]
     },
     "execution_count": 315,
     "metadata": {},
     "output_type": "execute_result"
    }
   ],
   "source": [
    "# 2/18/1994\n",
    "df=pd.read_excel(\"Topic7_6.9.xlsx\").iloc[:,:5]\n",
    "df.index = pd.to_datetime(df['date'])\n",
    "df.drop(['date',\"d15\",\"d16\",\"d17\"],inplace=True,axis=1)\n",
    "df = df[7:28:2]\n",
    "df.columns=['r2']\n",
    "\n",
    "#  forward price\n",
    "df['m'] = [i*0.5+2 for i in range(df.shape[0])]\n",
    "df['z'] = 1/(1+df['r2']/2)**(2*df['m'])\n",
    "df['F'] = df['z']/df['z'][0]    # Forward Discount Factor\n",
    "df['c_rate'] = [0]+[0.06/2,]*9+[1+0.06/2,]\n",
    "df['c'] = df['c_rate']*df['F']\n",
    "P_3=df['c'].sum()*100\n",
    "\n",
    "# the value of the forward contract\n",
    "(P_3-P)*df['z'][0]"
   ]
  },
  {
   "cell_type": "code",
   "execution_count": 316,
   "metadata": {},
   "outputs": [
    {
     "data": {
      "text/plain": [
       "-0.6871424919631088"
      ]
     },
     "execution_count": 316,
     "metadata": {},
     "output_type": "execute_result"
    }
   ],
   "source": [
    "# 2/22/1994\n",
    "df=pd.read_excel(\"Topic7_6.9.xlsx\").iloc[:,:6]\n",
    "df.index = pd.to_datetime(df['date'])\n",
    "df.drop(['date',\"d15\",\"d16\",\"d17\",\"d18\"],inplace=True,axis=1)\n",
    "df = df[7:28:2]\n",
    "df.columns=['r2']\n",
    "\n",
    "#  forward price\n",
    "df['m'] = [i*0.5+2 for i in range(df.shape[0])]\n",
    "df['z'] = 1/(1+df['r2']/2)**(2*df['m'])\n",
    "df['F'] = df['z']/df['z'][0]    # Forward Discount Factor\n",
    "df['c_rate'] = [0]+[0.06/2,]*9+[1+0.06/2,]\n",
    "df['c'] = df['c_rate']*df['F']\n",
    "P_4=df['c'].sum()*100\n",
    "\n",
    "# the value of the forward contract\n",
    "(P_4-P)*df['z'][0]"
   ]
  },
  {
   "cell_type": "code",
   "execution_count": 317,
   "metadata": {},
   "outputs": [
    {
     "data": {
      "text/plain": [
       "-0.9462145315864666"
      ]
     },
     "execution_count": 317,
     "metadata": {},
     "output_type": "execute_result"
    }
   ],
   "source": [
    "# 2/23/1994\n",
    "df=pd.read_excel(\"Topic7_6.9.xlsx\").iloc[:,:7]\n",
    "df.index = pd.to_datetime(df['date'])\n",
    "df.drop(['date',\"d15\",\"d16\",\"d17\",\"d18\",\"d22\"],inplace=True,axis=1)\n",
    "df = df[7:28:2]\n",
    "df.columns=['r2']\n",
    "\n",
    "#  forward price\n",
    "df['m'] = [i*0.5+2 for i in range(df.shape[0])]\n",
    "df['z'] = 1/(1+df['r2']/2)**(2*df['m'])\n",
    "df['F'] = df['z']/df['z'][0]    # Forward Discount Factor\n",
    "df['c_rate'] = [0]+[0.06/2,]*9+[1+0.06/2,]\n",
    "df['c'] = df['c_rate']*df['F']\n",
    "P_5=df['c'].sum()*100\n",
    "\n",
    "# the value of the forward contract\n",
    "(P_5-P)*df['z'][0]"
   ]
  },
  {
   "cell_type": "markdown",
   "metadata": {},
   "source": [
    "### 1.d"
   ]
  },
  {
   "cell_type": "code",
   "execution_count": 318,
   "metadata": {},
   "outputs": [
    {
     "name": "stdout",
     "output_type": "stream",
     "text": [
      "2/16/1994: -0.15551008502939112\n",
      "2/17/1994: -0.511014270679695\n",
      "2/18/1994: -0.44451364779963853\n",
      "2/22/1994: 0.3577278539826807\n",
      "2/23/1994: -0.2860481122129954\n"
     ]
    }
   ],
   "source": [
    "print(\"2/16/1994:\",P_1-P)\n",
    "print(\"2/17/1994:\",P_2-P_1)\n",
    "print(\"2/18/1994:\",P_3-P_2)\n",
    "print(\"2/22/1994:\",P_4-P_3)\n",
    "print(\"2/23/1994:\",P_5-P_4)"
   ]
  },
  {
   "cell_type": "markdown",
   "metadata": {},
   "source": [
    "### 1.e"
   ]
  },
  {
   "cell_type": "code",
   "execution_count": 319,
   "metadata": {},
   "outputs": [],
   "source": [
    "# Z(o/n)\n",
    "z1 = 1/(1+0.0354/252)\n",
    "z2 = 1/(1+0.0378/252)\n",
    "z3 = 1/(1+0.039/252)\n",
    "z4 = 1/(1+0.0444/252)\n",
    "z5 = 1/(1+0.0288/252)"
   ]
  },
  {
   "cell_type": "code",
   "execution_count": 320,
   "metadata": {},
   "outputs": [
    {
     "name": "stdout",
     "output_type": "stream",
     "text": [
      "2/16/1994: -0.15551008502939112\n",
      "2/17/1994: -0.6665462011734117\n",
      "2/18/1994: -1.1111598309032265\n",
      "2/22/1994: -0.7536039421324714\n",
      "2/23/1994: -1.0397848321828902\n"
     ]
    }
   ],
   "source": [
    "p1=P_1-P\n",
    "p2=P_2-P_1+p1/z1\n",
    "p3=P_3-P_2+p2/z2\n",
    "p4=P_4-P_3+p3/z3\n",
    "p5=P_5-P_4+p4/z4\n",
    "print(\"2/16/1994:\",p1)\n",
    "print(\"2/17/1994:\",p2)\n",
    "print(\"2/18/1994:\",p3)\n",
    "print(\"2/22/1994:\",p4)\n",
    "print(\"2/23/1994:\",p5)"
   ]
  },
  {
   "cell_type": "markdown",
   "metadata": {},
   "source": [
    "## 2\n",
    "\n",
    "### 2.a"
   ]
  },
  {
   "cell_type": "code",
   "execution_count": 330,
   "metadata": {},
   "outputs": [
    {
     "name": "stdout",
     "output_type": "stream",
     "text": [
      "Yes!\n"
     ]
    }
   ],
   "source": [
    "print(\"Yes!\")"
   ]
  },
  {
   "cell_type": "markdown",
   "metadata": {},
   "source": [
    "### 2.b"
   ]
  },
  {
   "cell_type": "code",
   "execution_count": 363,
   "metadata": {},
   "outputs": [],
   "source": [
    "df = pd.read_excel(\"Topic7_6.11.xlsx\")\n",
    "df.index = pd.to_datetime(df['date'])\n",
    "df = df.sort_index()\n",
    "df.drop(['date'],inplace=True,axis=1)"
   ]
  },
  {
   "cell_type": "code",
   "execution_count": 364,
   "metadata": {},
   "outputs": [
    {
     "data": {
      "text/plain": [
       "0.4753000000000007"
      ]
     },
     "execution_count": 364,
     "metadata": {},
     "output_type": "execute_result"
    }
   ],
   "source": [
    "# Total profit from futures\n",
    "0.25*(df['p_fut'][-1]-df['p_fut'][0])    # 0.25代表标的资产期限为90天"
   ]
  },
  {
   "cell_type": "markdown",
   "metadata": {},
   "source": [
    "### 2.c"
   ]
  },
  {
   "cell_type": "code",
   "execution_count": 365,
   "metadata": {},
   "outputs": [
    {
     "data": {
      "text/plain": [
       "0.5467279087520893"
      ]
     },
     "execution_count": 365,
     "metadata": {},
     "output_type": "execute_result"
    }
   ],
   "source": [
    "df['p_fwd']=1/(1+df['f']/4)*100\n",
    "df['p_fwd'][-1]-df[\"p_fwd\"][0]    # 不乘0.25"
   ]
  },
  {
   "cell_type": "markdown",
   "metadata": {},
   "source": [
    "### 2.d,e,f"
   ]
  },
  {
   "cell_type": "code",
   "execution_count": 398,
   "metadata": {},
   "outputs": [
    {
     "data": {
      "image/png": "[encoded data removed]",
      "text/plain": [
       "<Figure size 648x432 with 1 Axes>"
      ]
     },
     "metadata": {
      "needs_background": "light"
     },
     "output_type": "display_data"
    }
   ],
   "source": [
    "# the total P&L at each date for the futures contract\n",
    "df['PL_fut'] = 0.25*(df['p_fut']-df['p_fut'][0])\n",
    "\n",
    "# the total P&L at each date for the forward contract\n",
    "df['PL_fwd'] = df['p_fwd']-df['p_fwd'][0]\n",
    "\n",
    "# Plot\n",
    "Plot2(df.index,df[\"PL_fut\"],df[\"PL_fwd\"],\"Cumulative P&L\",\"PL_fut\",\"PL_fwd\",figure_size=[9,6],save_path=\"Topic7_2.png\")"
   ]
  },
  {
   "cell_type": "code",
   "execution_count": 401,
   "metadata": {},
   "outputs": [
    {
     "data": {
      "text/plain": [
       "date\n",
       "2007-10-16    0.000000\n",
       "2007-10-17    0.015541\n",
       "2007-10-18    0.041145\n",
       "2007-10-19    0.070842\n",
       "2007-10-22    0.096866\n",
       "Name: PL_fwd, dtype: float64"
      ]
     },
     "execution_count": 401,
     "metadata": {},
     "output_type": "execute_result"
    }
   ],
   "source": [
    "df[\"PL_fwd\"].head()"
   ]
  },
  {
   "cell_type": "code",
   "execution_count": 402,
   "metadata": {},
   "outputs": [
    {
     "data": {
      "text/plain": [
       "date\n",
       "2007-10-16    0.00000\n",
       "2007-10-17    0.03125\n",
       "2007-10-18    0.04500\n",
       "2007-10-19    0.07375\n",
       "2007-10-22    0.07000\n",
       "Name: PL_fut, dtype: float64"
      ]
     },
     "execution_count": 402,
     "metadata": {},
     "output_type": "execute_result"
    }
   ],
   "source": [
    "df[\"PL_fut\"].head()"
   ]
  },
  {
   "cell_type": "markdown",
   "metadata": {},
   "source": [
    "## 3\n",
    "\n",
    "### 3.a\n",
    "\n",
    "如果半年后实际价格比最小价低，就不执行合约"
   ]
  },
  {
   "cell_type": "code",
   "execution_count": 431,
   "metadata": {},
   "outputs": [],
   "source": [
    "df = pd.read_excel(\"Topic7_6.11.xlsx\")\n",
    "df.index = pd.to_datetime(df['date'])\n",
    "df = df.sort_index()\n",
    "df.drop(['date'],inplace=True,axis=1)"
   ]
  },
  {
   "cell_type": "code",
   "execution_count": 432,
   "metadata": {},
   "outputs": [
    {
     "data": {
      "text/plain": [
       "98.86063122513038"
      ]
     },
     "execution_count": 432,
     "metadata": {},
     "output_type": "execute_result"
    }
   ],
   "source": [
    "df['f_fut'] = (100-df[\"p_fut\"])/100\n",
    "p_fut_min = 100/(1+df['f_fut'][0]/4)\n",
    "p_fut_min    # 价格比这个低，合约就不执行"
   ]
  },
  {
   "cell_type": "markdown",
   "metadata": {},
   "source": [
    "### 3.b"
   ]
  },
  {
   "cell_type": "code",
   "execution_count": 444,
   "metadata": {},
   "outputs": [
    {
     "data": {
      "text/plain": [
       "98.7806272421659"
      ]
     },
     "execution_count": 444,
     "metadata": {},
     "output_type": "execute_result"
    }
   ],
   "source": [
    "p_fwd_min = 100/(1+df['f'][0]/4)\n",
    "p_fwd_min"
   ]
  },
  {
   "cell_type": "markdown",
   "metadata": {},
   "source": [
    "## 4\n",
    "\n",
    "### 4.a\n",
    "\n",
    "用Put-Call Parity中的公式"
   ]
  },
  {
   "cell_type": "code",
   "execution_count": 465,
   "metadata": {},
   "outputs": [
    {
     "data": {
      "text/plain": [
       "-0.16548799999999506"
      ]
     },
     "execution_count": 465,
     "metadata": {},
     "output_type": "execute_result"
    }
   ],
   "source": [
    "p_fwd = 100*97.21/98.24\n",
    "K = 99.12\n",
    "z = 0.9824\n",
    "temp = z*(p_fwd-K)\n",
    "temp"
   ]
  },
  {
   "cell_type": "code",
   "execution_count": 477,
   "metadata": {},
   "outputs": [
    {
     "name": "stdout",
     "output_type": "stream",
     "text": [
      "(0.06108799999999505)\n"
     ]
    }
   ],
   "source": [
    "# Call from P/C parity\n",
    "Call = 0.2934\n",
    "Put = 0.1044\n",
    "Call_ = Put+temp\n",
    "print(\"(\"+str(abs(Call_))+\")\")    # (-0.061)，括号表示负数"
   ]
  },
  {
   "cell_type": "markdown",
   "metadata": {},
   "source": [
    "### 4.b\n",
    "\n",
    "The answer is incorrect. Given the fact that the call is correctly priced, the put and forward\n",
    "are underpriced.\n",
    "\n",
    "Therefore, we should long put and forward with the proceeds from shorting the\n",
    "call. "
   ]
  },
  {
   "cell_type": "code",
   "execution_count": null,
   "metadata": {},
   "outputs": [],
   "source": []
  },
  {
   "cell_type": "code",
   "execution_count": null,
   "metadata": {},
   "outputs": [],
   "source": []
  }
 ],
 "metadata": {
  "kernelspec": {
   "display_name": "Python 3",
   "language": "python",
   "name": "python3"
  },
  "language_info": {
   "codemirror_mode": {
    "name": "ipython",
    "version": 3
   },
   "file_extension": ".py",
   "mimetype": "text/x-python",
   "name": "python",
   "nbconvert_exporter": "python",
   "pygments_lexer": "ipython3",
   "version": "3.7.4"
  }
 },
 "nbformat": 4,
 "nbformat_minor": 4
}
